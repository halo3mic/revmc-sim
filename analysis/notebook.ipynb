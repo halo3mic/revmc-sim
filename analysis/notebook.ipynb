{
 "cells": [
  {
   "cell_type": "code",
   "execution_count": 1,
   "metadata": {},
   "outputs": [],
   "source": [
    "import pandas as pd"
   ]
  },
  {
   "cell_type": "code",
   "execution_count": 2,
   "metadata": {},
   "outputs": [],
   "source": [
    "DATA_DIR_PATH = \"../.data/measurements-public/\"\n",
    "LABEL = \"f18999999t20371443_blocks_aotonly\""
   ]
  },
  {
   "cell_type": "markdown",
   "metadata": {},
   "source": [
    "## Paired t-test"
   ]
  },
  {
   "cell_type": "code",
   "execution_count": 3,
   "metadata": {},
   "outputs": [
    {
     "name": "stdout",
     "output_type": "stream",
     "text": [
      "Found 54 pairs with min-block-num: 19000393 and max-block-num: 20341191\n"
     ]
    }
   ],
   "source": [
    "path = DATA_DIR_PATH + LABEL + \".csv\"\n",
    "df = pd.read_csv(path).drop_duplicates()\n",
    "df = df.groupby(['block_num', 'run_type']).mean().reset_index() # For any duplicated block_num, we take the mean of the values \n",
    "df_wide = df.pivot(index='block_num', columns='run_type', values='exe_time').dropna(axis=0).reset_index()\n",
    "print(f\"Found {len(df_wide)} pairs with min-block-num: {df_wide['block_num'].min()} and max-block-num: {df_wide['block_num'].max()}\")"
   ]
  },
  {
   "cell_type": "code",
   "execution_count": 4,
   "metadata": {},
   "outputs": [],
   "source": [
    "import scipy.stats as stats\n",
    "import numpy as np\n",
    "\n",
    "def perform_t_test(sample, alpha=0.05):\n",
    "    t_stat, p_value = stats.ttest_1samp(sample, 0)\n",
    "\n",
    "    print(f\"mean-ratio: {np.mean(sample):.2f}\")\n",
    "    print(f\"T-statistic: {t_stat:.2f}\")\n",
    "    print(f\"P-value: {p_value:.2f}\")\n",
    "\n",
    "    print(\"\\nVerdict:\")\n",
    "    if p_value < alpha:\n",
    "        print(f\"Reject the null hypothesis H0 at significance level {alpha}.\")\n",
    "        if t_stat < 0:\n",
    "            print(\"H1: The mean latency of the new method is significantly less than the old one.\")\n",
    "        else:\n",
    "            print(\"H2: The mean latency of the new method is significantly greater than the old one.\")\n",
    "    else:\n",
    "        print(\"Fail to reject the null hypothesis H0: There is no significant difference in latency.\")"
   ]
  },
  {
   "cell_type": "markdown",
   "metadata": {},
   "source": [
    "### AOT vs Native"
   ]
  },
  {
   "cell_type": "code",
   "execution_count": 5,
   "metadata": {},
   "outputs": [
    {
     "name": "stdout",
     "output_type": "stream",
     "text": [
      "mean-ratio: 0.01\n",
      "T-statistic: 2.07\n",
      "P-value: 0.04\n",
      "\n",
      "Verdict:\n",
      "Reject the null hypothesis H0 at significance level 0.05.\n",
      "H2: The mean latency of the new method is significantly greater than the old one.\n"
     ]
    }
   ],
   "source": [
    "diff_ratios = (df_wide['aot'] - df_wide['native']) / df_wide['native']\n",
    "perform_t_test(diff_ratios)"
   ]
  },
  {
   "cell_type": "markdown",
   "metadata": {},
   "source": [
    "### JIT vs Native"
   ]
  },
  {
   "cell_type": "code",
   "execution_count": 6,
   "metadata": {},
   "outputs": [],
   "source": [
    "# perform_t_test(df_wide['jit'], df_wide['native'])"
   ]
  },
  {
   "cell_type": "markdown",
   "metadata": {},
   "source": [
    "## Histograms"
   ]
  },
  {
   "cell_type": "code",
   "execution_count": 7,
   "metadata": {},
   "outputs": [
    {
     "data": {
      "image/png": "[encoded data removed]",
      "text/plain": [
       "<Figure size 640x480 with 1 Axes>"
      ]
     },
     "metadata": {},
     "output_type": "display_data"
    }
   ],
   "source": [
    "import matplotlib.pyplot as plt\n",
    "\n",
    "\n",
    "# jit_diff = (df_wide['jit'] - df_wide['native']) \\\n",
    "#     .loc[lambda x: np.abs(stats.zscore(x)) < 2]\n",
    "aot_diff = diff_ratios\n",
    "\n",
    "# plt.hist(jit_diff, bins=100, alpha=0.5, label='jit-native')\n",
    "plt.hist(aot_diff, bins=20, alpha=0.5, label=r\"$\\frac{t_{aot}-t_{native}}{t_{native}}$\")\n",
    "\n",
    "plt.xlabel('Change in execution time relative to the native')\n",
    "plt.ylabel('Frequency')\n",
    "plt.title('Histogram of change in execution time')\n",
    "plt.legend()\n",
    "\n",
    "plt.show()"
   ]
  }
 ],
 "metadata": {
  "kernelspec": {
   "display_name": "Python 3",
   "language": "python",
   "name": "python3"
  },
  "language_info": {
   "codemirror_mode": {
    "name": "ipython",
    "version": 3
   },
   "file_extension": ".py",
   "mimetype": "text/x-python",
   "name": "python",
   "nbconvert_exporter": "python",
   "pygments_lexer": "ipython3",
   "version": "3.11.2"
  }
 },
 "nbformat": 4,
 "nbformat_minor": 2
}
